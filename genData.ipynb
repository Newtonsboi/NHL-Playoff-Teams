{
 "cells": [
  {
   "cell_type": "markdown",
   "metadata": {},
   "source": [
    "# Introduction"
   ]
  },
  {
   "cell_type": "markdown",
   "metadata": {},
   "source": [
    "The excitement level of millions of people rises each October as the NHL season begins. 31 teams, each playing 82 games, with the top teams qualifying to the Stanley Cup playoffs. The NHL is split into 2 conferences, East and West, with each conference further split into 2 Divisions. 8 teams from each conference qualify for the playoffs: the top 3 teams in each division, plus 2 “wild card” teams from each conference. These wild card teams are the ones that finish and in their conference. Can we use previous years data to predict which teams should be in the playoffs this year (2019)? This is the question I want to try and answer. As of writing this, the regular season has ended, so we can compare our machine-learned predictions to reality."
   ]
  },
  {
   "cell_type": "markdown",
   "metadata": {},
   "source": [
    "# Making the Data-set"
   ]
  },
  {
   "cell_type": "markdown",
   "metadata": {},
   "source": [
    "The first step is making the data-set. We will use historical data starting from the salary cap era (2005). Even though the NHL has been in existence since 1917, prior to 2005, there was no restriction on the amount of spending on players. With the enforcement of a salary cap, the playing field became more level. The data was collected from the website: [Hockey Reference](http://hockey-reference.com/). I manually stitched together all the previous year's stats into the csv file called [\"The PLAYOFFS - Data.csv](https://github.com/Newtonsboi/NHL-Playoff-Teams/blob/master/The%20PLAYOFFS%20-%20Data.csv). Then, for each of the teams, I assigned a 0 if the team made the playoffs that season, and 1 otherwise. The data consists of 33 features. \n"
   ]
  },
  {
   "cell_type": "code",
   "execution_count": 15,
   "metadata": {},
   "outputs": [
    {
     "name": "stdout",
     "output_type": "stream",
     "text": [
      "     Rk                      Team  AvAge  GP   W   L  OL  PTS   PTS%   GF  \\\n",
      "0     3      Carolina Hurricanes*   29.2  82  52  22   8  112  0.683  286   \n",
      "1     4            Anaheim Ducks*   28.5  82  48  20  14  110  0.671  254   \n",
      "2     1        Detroit Red Wings*   32.1  82  54  21   7  115  0.701  252   \n",
      "3     9      Pittsburgh Penguins*   26.6  82  45  28   9   99  0.604  258   \n",
      "4     3       Chicago Blackhawks*   26.6  82  52  22   8  112  0.683  262   \n",
      "5     7            Boston Bruins*   28.3  82  46  25  11  103  0.628  244   \n",
      "6    13        Los Angeles Kings*   26.7  82  40  27  15   95  0.579  188   \n",
      "7     1       Chicago Blackhawks*   26.8  48  36   7   5   77  0.802  149   \n",
      "8    10        Los Angeles Kings*   27.4  82  46  28   8  100  0.610  198   \n",
      "9     7       Chicago Blackhawks*   29.3  82  48  28   6  102  0.622  220   \n",
      "10    4      Pittsburgh Penguins*   29.0  82  48  26   8  104  0.634  241   \n",
      "11    2      Pittsburgh Penguins*   28.7  82  50  21  11  111  0.677  278   \n",
      "12    6      Washington Capitals*   28.4  82  49  26   7  105  0.640  256   \n",
      "13   14          Edmonton Oilers*   28.7  82  41  28  13   95  0.579  249   \n",
      "14    9          Ottawa Senators*   26.6  82  48  25   9  105  0.640  286   \n",
      "15    5      Pittsburgh Penguins*   26.9  82  47  27   8  102  0.622  240   \n",
      "16    3        Detroit Red Wings*   31.2  82  51  21  10  112  0.683  289   \n",
      "17   18      Philadelphia Flyers*   27.7  82  41  35   6   88  0.537  232   \n",
      "18    1        Vancouver Canucks*   28.1  82  54  19   9  117  0.713  258   \n",
      "19    7        New Jersey Devils*   30.1  82  48  28   6  102  0.622  216   \n",
      "20    5            Boston Bruins*   27.8  48  28  14   6   62  0.646  127   \n",
      "21   12         New York Rangers*   27.4  82  45  31   6   96  0.585  214   \n",
      "22    5      Tampa Bay Lightning*   26.9  82  50  24   8  108  0.659  259   \n",
      "23   11          San Jose Sharks*   29.1  82  46  30   6   98  0.598  237   \n",
      "24   16      Nashville Predators*   27.9  82  41  29  12   94  0.573  238   \n",
      "25    5     Vegas Golden Knights*   28.0  82  51  24   7  109  0.665  268   \n",
      "26    5           Buffalo Sabres*   26.9  82  52  24   6  110  0.671  276   \n",
      "27   12  Mighty Ducks of Anaheim*   28.2  82  43  27  12   98  0.598  251   \n",
      "28    1           Buffalo Sabres*   27.2  82  53  22   7  113  0.689  298   \n",
      "29    2        Detroit Red Wings*   32.3  82  50  19  13  113  0.689  252   \n",
      "..   ..                       ...    ...  ..  ..  ..  ..  ...    ...  ...   \n",
      "361  30       Toronto Maple Leafs   27.4  82  29  42  11   69  0.421  192   \n",
      "362  17        New York Islanders   28.4  82  41  29  12   94  0.573  239   \n",
      "363  18       Tampa Bay Lightning   26.8  82  42  30  10   94  0.573  230   \n",
      "364  19       Philadelphia Flyers   27.6  82  39  33  10   88  0.537  212   \n",
      "365  20       Carolina Hurricanes   26.8  82  36  31  15   87  0.530  212   \n",
      "366  21             Winnipeg Jets   26.1  82  40  35   7   87  0.530  246   \n",
      "367  22         Los Angeles Kings   29.1  82  39  35   8   86  0.524  199   \n",
      "368  23          Florida Panthers   28.6  82  35  36  11   81  0.494  205   \n",
      "369  24              Dallas Stars   28.5  82  34  37  11   79  0.482  222   \n",
      "370  25         Detroit Red Wings   28.4  82  33  36  13   79  0.482  198   \n",
      "371  26            Buffalo Sabres   26.4  82  33  37  12   78  0.476  199   \n",
      "372  27           Arizona Coyotes   27.3  82  30  42  10   70  0.427  191   \n",
      "373  28         New Jersey Devils   28.1  82  28  40  14   70  0.427  180   \n",
      "374  29         Vancouver Canucks   28.8  82  30  43   9   69  0.421  178   \n",
      "375  30        Colorado Avalanche   27.6  82  22  56   4   48  0.293  165   \n",
      "376  16          Florida Panthers   27.8  82  44  30   8   96  0.585  245   \n",
      "377  18           St. Louis Blues   28.5  82  44  32   6   94  0.573  223   \n",
      "378  19              Dallas Stars   28.5  82  42  32   8   92  0.561  231   \n",
      "379  20            Calgary Flames   28.4  82  37  35  10   84  0.512  216   \n",
      "380  21       Carolina Hurricanes   27.0  82  36  35  11   83  0.506  225   \n",
      "381  22        New York Islanders   28.4  82  35  37  10   80  0.488  261   \n",
      "382  23           Edmonton Oilers   26.8  82  36  40   6   78  0.476  229   \n",
      "383  24          New York Rangers   28.7  82  34  39   9   77  0.470  228   \n",
      "384  25        Chicago Blackhawks   28.0  82  33  39  10   76  0.463  228   \n",
      "385  26         Vancouver Canucks   28.2  82  31  40  11   73  0.445  218   \n",
      "386  27         Detroit Red Wings   30.2  82  30  39  13   73  0.445  212   \n",
      "387  28        Montreal Canadiens   27.8  82  29  40  13   71  0.433  207   \n",
      "388  29           Arizona Coyotes   26.5  82  29  41  12   70  0.427  206   \n",
      "389  30           Ottawa Senators   29.3  82  28  43  11   67  0.409  219   \n",
      "390  31            Buffalo Sabres   27.1  82  25  45  12   62  0.378  198   \n",
      "\n",
      "     ...  SH  SHA  PIM/G  oPIM/G     S    S%    SA    SV%  SO  Final Standing  \n",
      "0    ...  17   13   13.5    16.2  2553  11.2  2497  0.897   4               0  \n",
      "1    ...   4    4   17.8    17.8  2582   9.8  2248  0.912   5               0  \n",
      "2    ...   5    7   11.4    12.7  2820   8.9  1930  0.907   9               0  \n",
      "3    ...   7   13   13.6    14.2  2381  10.8  2484  0.906   4               0  \n",
      "4    ...  13    4   11.3    11.7  2798   9.4  2058  0.901  11               0  \n",
      "5    ...  11    5   13.6    13.8  2696   9.1  2682  0.930  11               0  \n",
      "6    ...   9    2   11.3    11.1  2509   7.5  2248  0.924  11               0  \n",
      "7    ...   5    5    9.2    10.0  1494  10.0  1258  0.923   7               0  \n",
      "8    ...   5    6   10.7    11.1  2595   7.6  2148  0.922  13               0  \n",
      "9    ...   3    7    7.3     8.8  2777   7.9  2477  0.925   5               0  \n",
      "10   ...  11    5    8.5     8.9  2722   8.9  2436  0.918   6               0  \n",
      "11   ...   5    7    8.6     9.0  2745  10.1  2671  0.914   5               0  \n",
      "12   ...   4    8    9.8     9.2  2379  10.8  2613  0.909   3               0  \n",
      "13   ...  15    5   14.4    15.5  2442  10.2  2094  0.884   2               0  \n",
      "14   ...  17   12   14.3    14.6  2651  10.8  2479  0.913   6               0  \n",
      "15   ...   6   10   14.4    15.1  2268  10.6  2523  0.916   8               0  \n",
      "16   ...   6    4   10.0    10.9  2965   9.7  2274  0.894   8               0  \n",
      "17   ...   5    7   16.6    15.3  2589   9.0  2346  0.905   5               0  \n",
      "18   ...   6    2   11.5    11.2  2624   9.8  2470  0.927   5               0  \n",
      "19   ...  15   13   11.5    10.7  2253   9.6  2199  0.907   7               0  \n",
      "20   ...   5    2   12.2     9.8  1557   8.2  1373  0.923   6               0  \n",
      "21   ...  10    7   10.0    10.4  2719   7.9  2412  0.921   8               0  \n",
      "22   ...   7    6    9.9    10.5  2428  10.7  2287  0.910   5               0  \n",
      "23   ...   6    7    8.9    11.0  2491   9.5  2245  0.908   9               0  \n",
      "24   ...  12    6   10.2    10.7  2557   9.3  2472  0.911   4               0  \n",
      "25   ...   8    5    6.8     7.5  2686  10.0  2521  0.911   5               0  \n",
      "26   ...  10   17   14.0    15.2  2510  11.0  2502  0.906   2               0  \n",
      "27   ...   9   13   17.6    17.0  2585   9.7  2431  0.909   3               0  \n",
      "28   ...   8   13   14.6    15.3  2417  12.3  2541  0.906   2               0  \n",
      "29   ...  12   11   12.0    12.4  2771   9.1  2020  0.905   8               0  \n",
      "..   ...  ..  ...    ...     ...   ...   ...   ...    ...  ..             ...  \n",
      "361  ...   3    8    9.2     9.0  2515   7.6  2503  0.904   4               1  \n",
      "362  ...   5    7    7.9     7.9  2480   9.6  2616  0.909   5               1  \n",
      "363  ...   4    8   10.7    11.4  2452   9.4  2492  0.910   3               1  \n",
      "364  ...   4    9   10.3    11.1  2585   8.2  2334  0.901   5               1  \n",
      "365  ...  10    6    5.8     6.6  2493   8.5  2320  0.901   3               1  \n",
      "366  ...  10    9   10.2     9.7  2448  10.0  2546  0.900   5               1  \n",
      "367  ...   5    3    9.2     9.3  2553   7.8  2120  0.905   9               1  \n",
      "368  ...   8    8    9.9     9.9  2644   7.8  2595  0.911   4               1  \n",
      "369  ...   5   11    9.9     9.8  2505   8.9  2439  0.893   3               1  \n",
      "370  ...   3    9    8.8     9.2  2335   8.5  2507  0.903   4               1  \n",
      "371  ...   3    4    9.0     8.6  2491   8.0  2813  0.918   3               1  \n",
      "372  ...   8    7    9.9     8.6  2281   8.4  2797  0.908   3               1  \n",
      "373  ...   6   12   10.0     9.7  2279   7.9  2572  0.906   3               1  \n",
      "374  ...   2    6    7.9     7.9  2273   7.8  2605  0.907   3               1  \n",
      "375  ...   5    2    9.4     8.2  2303   7.2  2603  0.894   3               1  \n",
      "376  ...  10    5   11.0    11.7  2822   8.7  2838  0.914   7               1  \n",
      "377  ...   5    9    7.7     8.2  2677   8.3  2438  0.909   4               1  \n",
      "378  ...   7   10   10.1     9.6  2560   9.0  2447  0.909   6               1  \n",
      "379  ...   7    7   11.1    11.2  2759   7.8  2554  0.905   3               1  \n",
      "380  ...   3    6    6.2     7.1  2780   8.1  2367  0.893   2               1  \n",
      "381  ...   5   11    7.8     8.1  2572  10.1  2918  0.900   2               1  \n",
      "382  ...  11    5    9.2     7.6  2740   8.4  2634  0.901   1               1  \n",
      "383  ...   5    5    8.0     8.0  2538   9.0  2898  0.909   3               1  \n",
      "384  ...   5    7    7.5     8.9  2793   8.2  2697  0.906   2               1  \n",
      "385  ...   7   10    8.7     8.0  2464   8.8  2641  0.902   4               1  \n",
      "386  ...   9    5    8.9     8.3  2490   8.5  2613  0.903   4               1  \n",
      "387  ...   7    6    8.6     8.8  2687   7.7  2650  0.903   4               1  \n",
      "388  ...   2   10    7.8     8.3  2450   8.4  2642  0.905   5               1  \n",
      "389  ...   4    6    8.1     8.4  2515   8.7  2712  0.895   2               1  \n",
      "390  ...   9   10    8.2     8.8  2557   7.7  2681  0.896   3               1  \n",
      "\n",
      "[391 rows x 34 columns]\n"
     ]
    }
   ],
   "source": [
    "import pandas as pd\n",
    "combinedData = pd.read_csv(\"The PLAYOFFS - Data.csv\")  # Import data\n",
    "print(combinedData) # Show how the CSV File looks like"
   ]
  },
  {
   "cell_type": "markdown",
   "metadata": {},
   "source": [
    "## Feature Selection\n",
    "### Importing the Data"
   ]
  },
  {
   "cell_type": "markdown",
   "metadata": {},
   "source": [
    "As the data-set is not large and we have a lot of features, I want to avoid over-fitting. To do so, I need to cut down the number of features. I want to be able to predict a playoff team without knowing the team’s ranking, or factors that influence ranking, as that would make the task trivial. So, I got rid of these features:\n",
    "\n",
    "-   Ranking \n",
    "\n",
    "-   Games Played\n",
    "\n",
    "-   Wins and Losses \n",
    "\n",
    "-   Strength of Schedule\n",
    "\n",
    "-   Simple Rating System \n",
    "\n",
    "I also make sure we do not have repetitive features. For example, there is a Goals Scored feature, but also Even Strength Goals Scored, as well as Power Play Goals Scored, the summation of the latter two giving the former. So I removed the former. The result is that I am able to reduce the features from 33 to 19."
   ]
  },
  {
   "cell_type": "code",
   "execution_count": 14,
   "metadata": {},
   "outputs": [],
   "source": [
    "removeIndices = [\"Rk\",\"GP\", \"W\", \"L\", \"OL\", \"PTS\", \"PTS%\",\"SOW\",\"SOL\",\"SRS\",\"GA\",\"GF\", \"SOS\"] # Define features that influence ranking\n",
    "combinedData = pd.read_csv(\"The PLAYOFFS - Data.csv\")  # Import data\n",
    "combinedData.iloc[:,1] = combinedData.iloc[:,1].map(lambda x: x.strip('*')) # Some datasets have a *, remove them\n",
    "combinedData = combinedData.set_index(\"Team\") # Set the team as the index\n",
    "combinedData = combinedData.drop(removeIndices,axis=1) # Remove the unwanted features\n",
    "combinedData = combinedData.sample(frac=1, random_state=421) # Shuffle the dataset"
   ]
  },
  {
   "cell_type": "markdown",
   "metadata": {},
   "source": [
    "Next, I seperate the training data from the training targets. The targets are the 0 and 1 assigned to play-off and non-playoff teams"
   ]
  },
  {
   "cell_type": "code",
   "execution_count": 19,
   "metadata": {},
   "outputs": [],
   "source": [
    "unFilteredtrainData = combinedData.iloc[:,:-1] # Seperate the training data from the training targets\n",
    "trainTargets = combinedData.iloc[:,-1]"
   ]
  },
  {
   "cell_type": "markdown",
   "metadata": {},
   "source": [
    "Then, I import this season's (2018 - 2019) team stats, and remove the same features as in the training data. As this is our test data, we do not have test targets (0s and 1s)."
   ]
  },
  {
   "cell_type": "code",
   "execution_count": 23,
   "metadata": {},
   "outputs": [],
   "source": [
    "unFilteredtestData = pd.read_csv(\"The PLAYOFFS - 2018.csv\") # Import test set, which is this year's data\n",
    "unFilteredtestData.iloc[:,1] = unFilteredtestData.iloc[:,1].map(lambda x: x.strip('*'))\n",
    "unFilteredtestData = unFilteredtestData.set_index(\"Team\")\n",
    "unFilteredtestData = unFilteredtestData.drop(removeIndices,axis=1)\n",
    "unFilteredtestData = unFilteredtestData.sample(frac=1,  random_state=421) # Randomly shuffle"
   ]
  },
  {
   "cell_type": "markdown",
   "metadata": {},
   "source": [
    "### Feature Extractor"
   ]
  },
  {
   "cell_type": "code",
   "execution_count": null,
   "metadata": {},
   "outputs": [],
   "source": []
  }
 ],
 "metadata": {
  "kernelspec": {
   "display_name": "Python 3",
   "language": "python",
   "name": "python3"
  },
  "language_info": {
   "codemirror_mode": {
    "name": "ipython",
    "version": 3
   },
   "file_extension": ".py",
   "mimetype": "text/x-python",
   "name": "python",
   "nbconvert_exporter": "python",
   "pygments_lexer": "ipython3",
   "version": "3.6.8"
  }
 },
 "nbformat": 4,
 "nbformat_minor": 2
}
